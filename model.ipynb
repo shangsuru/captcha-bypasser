{
 "cells": [
  {
   "cell_type": "code",
   "execution_count": 17,
   "id": "ceramic-blind",
   "metadata": {},
   "outputs": [],
   "source": [
    "import cv2\n",
    "import imutils\n",
    "from imutils import paths\n",
    "import numpy as np\n",
    "import os\n",
    "\n",
    "def normalize_dimensions(image, desired_width=20, desired_height=20):\n",
    "    (h, w) = image.shape[:2]\n",
    "    if w > h:\n",
    "        image = imutils.resize(image, width=desired_width)\n",
    "    else:\n",
    "        image = imutils.resize(image, height=desired_height)\n",
    "    width_padding = int((desired_width - image.shape[1]) / 2)\n",
    "    height_padding = int((desired_height - image.shape[0]) / 2)\n",
    "    WHITE = [255, 255, 255]\n",
    "    image_with_border = cv2.copyMakeBorder(image, height_padding, height_padding, width_padding, width_padding, cv2.BORDER_CONSTANT, value=WHITE)\n",
    "    image_with_border_resized = cv2.resize(image_with_border, (desired_width, desired_height), interpolation=cv2.INTER_AREA)\n",
    "    return image_with_border_resized\n",
    "    "
   ]
  },
  {
   "cell_type": "code",
   "execution_count": 18,
   "id": "direct-profit",
   "metadata": {},
   "outputs": [],
   "source": [
    "images = []\n",
    "labels = []\n",
    "\n",
    "output_folder = \"dataset/char_images\"\n",
    "\n",
    "for path in paths.list_images(output_folder):\n",
    "    image = cv2.imread(path)\n",
    "    image_normalized = normalize_dimensions(image)\n",
    "    images.append(image_normalized)\n",
    "\n",
    "    label = path.split(os.path.sep)[-2]\n",
    "    labels.append(label)"
   ]
  },
  {
   "cell_type": "code",
   "execution_count": 19,
   "id": "victorian-refund",
   "metadata": {},
   "outputs": [
    {
     "data": {
      "text/plain": [
       "(20, 20, 3)"
      ]
     },
     "execution_count": 19,
     "metadata": {},
     "output_type": "execute_result"
    }
   ],
   "source": [
    "X = np.array(images, dtype=\"float\") / 255.0\n",
    "labels = np.array(labels)"
   ]
  },
  {
   "cell_type": "code",
   "execution_count": 20,
   "id": "dressed-nightlife",
   "metadata": {},
   "outputs": [],
   "source": [
    "from sklearn.preprocessing import LabelBinarizer\n",
    "label_binarizer = LabelBinarizer().fit(labels)\n",
    "y = label_binarizer.transform(labels)"
   ]
  },
  {
   "cell_type": "code",
   "execution_count": 26,
   "id": "original-evaluation",
   "metadata": {},
   "outputs": [],
   "source": [
    "from tensorflow.keras import backend\n",
    "from keras.models import Sequential\n",
    "from keras.layers.convolutional import Conv2D, MaxPooling2D\n",
    "from keras.layers.core import Flatten, Dense\n",
    "\n",
    "num_classes = len(set(labels))"
   ]
  },
  {
   "cell_type": "code",
   "execution_count": 27,
   "id": "institutional-kidney",
   "metadata": {},
   "outputs": [],
   "source": [
    "CNN_model = Sequential()\n",
    "CNN_model.add(\n",
    "    Conv2D(20, (5, 5), padding=\"same\", input_shape=(20, 20, 3), activation=\"relu\"))\n",
    "CNN_model.add(MaxPooling2D(pool_size=(2,2), strides=(2,2)))\n",
    "\n",
    "CNN_model.add(\n",
    "    Conv2D(20, (5, 5), padding=\"same\", input_shape=(20, 20, 3), activation=\"relu\"))\n",
    "CNN_model.add(MaxPooling2D(pool_size=(2,2), strides=(2,2)))\n",
    "\n",
    "CNN_model.add(Flatten())\n",
    "CNN_model.add(Dense(512, activation=\"relu\"))\n",
    "CNN_model.add(Dense(num_classes, activation=\"softmax\"))"
   ]
  },
  {
   "cell_type": "code",
   "execution_count": 28,
   "id": "native-african",
   "metadata": {},
   "outputs": [
    {
     "name": "stdout",
     "output_type": "stream",
     "text": [
      "Model: \"sequential_2\"\n",
      "_________________________________________________________________\n",
      "Layer (type)                 Output Shape              Param #   \n",
      "=================================================================\n",
      "conv2d_4 (Conv2D)            (None, 20, 20, 20)        1520      \n",
      "_________________________________________________________________\n",
      "max_pooling2d_4 (MaxPooling2 (None, 10, 10, 20)        0         \n",
      "_________________________________________________________________\n",
      "conv2d_5 (Conv2D)            (None, 10, 10, 20)        10020     \n",
      "_________________________________________________________________\n",
      "max_pooling2d_5 (MaxPooling2 (None, 5, 5, 20)          0         \n",
      "_________________________________________________________________\n",
      "flatten_2 (Flatten)          (None, 500)               0         \n",
      "_________________________________________________________________\n",
      "dense_4 (Dense)              (None, 512)               256512    \n",
      "_________________________________________________________________\n",
      "dense_5 (Dense)              (None, 33)                16929     \n",
      "=================================================================\n",
      "Total params: 284,981\n",
      "Trainable params: 284,981\n",
      "Non-trainable params: 0\n",
      "_________________________________________________________________\n"
     ]
    }
   ],
   "source": [
    "CNN_model.compile(\n",
    "    loss=\"categorical_crossentropy\", optimizer=\"adam\", metrics=[\"accuracy\"]\n",
    ")\n",
    "CNN_model.summary()"
   ]
  },
  {
   "cell_type": "code",
   "execution_count": 29,
   "id": "contemporary-eleven",
   "metadata": {},
   "outputs": [],
   "source": [
    "from sklearn.model_selection import train_test_split\n",
    "\n",
    "X_train, X_test, y_train, y_test = train_test_split(X, y, test_size=0.2, shuffle=True)"
   ]
  },
  {
   "cell_type": "code",
   "execution_count": 30,
   "id": "informed-destiny",
   "metadata": {},
   "outputs": [
    {
     "name": "stdout",
     "output_type": "stream",
     "text": [
      "Epoch 1/5\n",
      "740/740 [==============================] - 9s 12ms/step - loss: 1.2501 - accuracy: 0.7115 - val_loss: 0.7411 - val_accuracy: 0.8342\n",
      "Epoch 2/5\n",
      "740/740 [==============================] - 9s 12ms/step - loss: 0.6610 - accuracy: 0.8433 - val_loss: 0.7078 - val_accuracy: 0.8428\n",
      "Epoch 3/5\n",
      "740/740 [==============================] - 9s 12ms/step - loss: 0.6069 - accuracy: 0.8571 - val_loss: 0.7304 - val_accuracy: 0.8436\n",
      "Epoch 4/5\n",
      "740/740 [==============================] - 9s 12ms/step - loss: 0.5510 - accuracy: 0.8693 - val_loss: 0.7299 - val_accuracy: 0.8491\n",
      "Epoch 5/5\n",
      "740/740 [==============================] - 9s 12ms/step - loss: 0.4924 - accuracy: 0.8836 - val_loss: 0.7298 - val_accuracy: 0.8487\n"
     ]
    },
    {
     "data": {
      "text/plain": [
       "<tensorflow.python.keras.callbacks.History at 0x7ff2dd2271f0>"
      ]
     },
     "execution_count": 30,
     "metadata": {},
     "output_type": "execute_result"
    }
   ],
   "source": [
    "CNN_model.fit(X_train, y_train, validation_data=(X_test, y_test), batch_size=32, epochs=5, verbose=1)"
   ]
  },
  {
   "cell_type": "code",
   "execution_count": 32,
   "id": "toxic-charger",
   "metadata": {},
   "outputs": [],
   "source": [
    "import pickle\n",
    "\n",
    "pickle.dump(label_binarizer, open(\"binarizer.pkl\", \"wb\"))\n",
    "CNN_model.save_weights(\"weights.h5\")"
   ]
  },
  {
   "cell_type": "code",
   "execution_count": null,
   "id": "fallen-ranch",
   "metadata": {},
   "outputs": [],
   "source": []
  }
 ],
 "metadata": {
  "kernelspec": {
   "display_name": "Python 3.8.0 64-bit",
   "language": "python",
   "name": "python38064bit207a80fed20d40c98e29ba0cf87897f9"
  },
  "language_info": {
   "codemirror_mode": {
    "name": "ipython",
    "version": 3
   },
   "file_extension": ".py",
   "mimetype": "text/x-python",
   "name": "python",
   "nbconvert_exporter": "python",
   "pygments_lexer": "ipython3",
   "version": "3.8.0"
  }
 },
 "nbformat": 4,
 "nbformat_minor": 5
}
